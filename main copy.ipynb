{
 "cells": [
  {
   "cell_type": "markdown",
   "metadata": {},
   "source": [
    "import pandas library"
   ]
  },
  {
   "cell_type": "code",
   "execution_count": 1,
   "metadata": {},
   "outputs": [],
   "source": [
    "import pandas as pd\n",
    "import matplotlib.pyplot as plt\n",
    "import seaborn as sns"
   ]
  },
  {
   "cell_type": "markdown",
   "metadata": {},
   "source": [
    "load the csv file into a DataFrame"
   ]
  },
  {
   "cell_type": "code",
   "execution_count": 2,
   "metadata": {},
   "outputs": [],
   "source": [
    "df = pd.read_csv('listings.csv')"
   ]
  },
  {
   "cell_type": "markdown",
   "metadata": {},
   "source": [
    "display the graph of distribution of property types"
   ]
  },
  {
   "cell_type": "code",
   "execution_count": 3,
   "metadata": {},
   "outputs": [
    {
     "name": "stdout",
     "output_type": "stream",
     "text": [
      "                 id     scrape_id  description       host_id  \\\n",
      "count  7.029000e+03  7.029000e+03          0.0  7.029000e+03   \n",
      "mean   3.776090e+17  2.023122e+13          NaN  1.594925e+08   \n",
      "std    4.403533e+17  3.008026e+00          NaN  1.778368e+08   \n",
      "min    1.789100e+04  2.023122e+13          NaN  6.303800e+04   \n",
      "25%    2.755237e+07  2.023122e+13          NaN  1.771335e+07   \n",
      "50%    4.385338e+07  2.023122e+13          NaN  8.087394e+07   \n",
      "75%    8.461219e+17  2.023122e+13          NaN  2.448217e+08   \n",
      "max    1.049754e+18  2.023122e+13          NaN  5.510371e+08   \n",
      "\n",
      "       host_listings_count  host_total_listings_count  \\\n",
      "count          7029.000000                7029.000000   \n",
      "mean            112.713046                 137.641628   \n",
      "std             159.390824                 206.252979   \n",
      "min               1.000000                   1.000000   \n",
      "25%               3.000000                   5.000000   \n",
      "50%              22.000000                  29.000000   \n",
      "75%             227.000000                 300.000000   \n",
      "max            2452.000000                5526.000000   \n",
      "\n",
      "       neighbourhood_group_cleansed     latitude    longitude  accommodates  \\\n",
      "count                           0.0  7029.000000  7029.000000   7029.000000   \n",
      "mean                            NaN    22.296967   114.163259      2.531228   \n",
      "std                             NaN     0.034115     0.046004      1.989314   \n",
      "min                             NaN    22.191250   113.856340      1.000000   \n",
      "25%                             NaN    22.280540   114.155570      1.000000   \n",
      "50%                             NaN    22.291929   114.171470      2.000000   \n",
      "75%                             NaN    22.310550   114.180670      3.000000   \n",
      "max                             NaN    22.547197   114.362470     16.000000   \n",
      "\n",
      "       ...  review_scores_checkin  review_scores_communication  \\\n",
      "count  ...            3541.000000                  3540.000000   \n",
      "mean   ...               4.694866                     4.714147   \n",
      "std    ...               0.553097                     0.545940   \n",
      "min    ...               0.000000                     1.000000   \n",
      "25%    ...               4.670000                     4.670000   \n",
      "50%    ...               4.870000                     4.910000   \n",
      "75%    ...               5.000000                     5.000000   \n",
      "max    ...               5.000000                     5.000000   \n",
      "\n",
      "       review_scores_location  review_scores_value  license  \\\n",
      "count             3541.000000          3541.000000      0.0   \n",
      "mean                 4.742550             4.501728      NaN   \n",
      "std                  0.459721             0.643439      NaN   \n",
      "min                  1.000000             1.000000      NaN   \n",
      "25%                  4.680000             4.360000      NaN   \n",
      "50%                  4.880000             4.670000      NaN   \n",
      "75%                  5.000000             4.920000      NaN   \n",
      "max                  5.000000             5.000000      NaN   \n",
      "\n",
      "       calculated_host_listings_count  \\\n",
      "count                     7029.000000   \n",
      "mean                        98.409020   \n",
      "std                        137.396629   \n",
      "min                          1.000000   \n",
      "25%                          3.000000   \n",
      "50%                         19.000000   \n",
      "75%                        136.000000   \n",
      "max                        398.000000   \n",
      "\n",
      "       calculated_host_listings_count_entire_homes  \\\n",
      "count                                  7029.000000   \n",
      "mean                                     13.421966   \n",
      "std                                      24.160705   \n",
      "min                                       0.000000   \n",
      "25%                                       1.000000   \n",
      "50%                                       3.000000   \n",
      "75%                                      18.000000   \n",
      "max                                     116.000000   \n",
      "\n",
      "       calculated_host_listings_count_private_rooms  \\\n",
      "count                                   7029.000000   \n",
      "mean                                      78.850334   \n",
      "std                                      124.300374   \n",
      "min                                        0.000000   \n",
      "25%                                        0.000000   \n",
      "50%                                        9.000000   \n",
      "75%                                       90.000000   \n",
      "max                                      378.000000   \n",
      "\n",
      "       calculated_host_listings_count_shared_rooms  reviews_per_month  \n",
      "count                                  7029.000000        3541.000000  \n",
      "mean                                      5.976953           0.888749  \n",
      "std                                      14.473998           1.146428  \n",
      "min                                       0.000000           0.010000  \n",
      "25%                                       0.000000           0.140000  \n",
      "50%                                       0.000000           0.450000  \n",
      "75%                                       6.000000           1.150000  \n",
      "max                                      63.000000           8.910000  \n",
      "\n",
      "[8 rows x 42 columns]\n"
     ]
    }
   ],
   "source": [
    "# Distribution of property types\n",
    "plt.figure(figsize=(12, 6))\n",
    "sns.countplot(x='property_type', data=df, order=df['property_type'].value_counts().index)\n",
    "plt.xticks(rotation=45)\n",
    "plt.title('Distribution of Property Types')\n",
    "plt.xlabel('Property Type')\n",
    "plt.ylabel('Count')\n",
    "plt.tight_layout()\n",
    "plt.show()\n"
   ]
  },
  {
   "cell_type": "markdown",
   "metadata": {},
   "source": [
    "display the graph of distribution of room types"
   ]
  },
  {
   "cell_type": "code",
   "execution_count": null,
   "metadata": {},
   "outputs": [],
   "source": [
    "# Distribution of room types\n",
    "plt.figure(figsize=(8, 5))\n",
    "sns.countplot(x='room_type', data=df, order=df['room_type'].value_counts().index)\n",
    "plt.title('Distribution of Room Types')\n",
    "plt.xlabel('Room Type')\n",
    "plt.ylabel('Count')\n",
    "plt.tight_layout()\n",
    "plt.show()"
   ]
  },
  {
   "cell_type": "markdown",
   "metadata": {},
   "source": [
    "display the Scatter plot of price vs number of reviews"
   ]
  },
  {
   "cell_type": "code",
   "execution_count": null,
   "metadata": {},
   "outputs": [],
   "source": [
    "# Scatter plot of price vs number of reviews\n",
    "plt.figure(figsize=(10, 6))\n",
    "sns.scatterplot(x='price', y='number_of_reviews', data=df)\n",
    "plt.title('Price vs Number of Reviews')\n",
    "plt.xlabel('Price')\n",
    "plt.ylabel('Number of Reviews')\n",
    "plt.tight_layout()\n",
    "plt.show()"
   ]
  }
 ],
 "metadata": {
  "kernelspec": {
   "display_name": "base",
   "language": "python",
   "name": "python3"
  },
  "language_info": {
   "codemirror_mode": {
    "name": "ipython",
    "version": 3
   },
   "file_extension": ".py",
   "mimetype": "text/x-python",
   "name": "python",
   "nbconvert_exporter": "python",
   "pygments_lexer": "ipython3",
   "version": "3.11.7"
  }
 },
 "nbformat": 4,
 "nbformat_minor": 2
}
