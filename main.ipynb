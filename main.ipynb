{
 "cells": [
  {
   "cell_type": "markdown",
   "metadata": {},
   "source": [
    "import pandas library"
   ]
  },
  {
   "cell_type": "code",
   "execution_count": null,
   "metadata": {},
   "outputs": [],
   "source": [
    "print(\"lolik\")"
   ]
  },
  {
   "cell_type": "code",
   "execution_count": 1,
   "metadata": {},
   "outputs": [],
   "source": [
    "import pandas as pd\n",
    "import matplotlib.pyplot as plt\n",
    "import seaborn as sns"
   ]
  },
  {
   "cell_type": "markdown",
   "metadata": {},
   "source": [
    "load the csv file into a DataFrame"
   ]
  },
  {
   "cell_type": "code",
   "execution_count": 2,
   "metadata": {},
   "outputs": [],
   "source": [
    "df = pd.read_csv('listings.csv')"
   ]
  },
  {
   "cell_type": "markdown",
   "metadata": {},
   "source": [
    "display first few rows of the DataFrame"
   ]
  },
  {
   "cell_type": "code",
   "execution_count": 3,
   "metadata": {},
   "outputs": [
    {
     "name": "stdout",
     "output_type": "stream",
     "text": [
      "       id                          listing_url       scrape_id last_scraped  \\\n",
      "0   17891   https://www.airbnb.com/rooms/17891  20231220185609   2023-12-21   \n",
      "1   72571   https://www.airbnb.com/rooms/72571  20231220185609   2023-12-20   \n",
      "2  132773  https://www.airbnb.com/rooms/132773  20231220185609   2023-12-21   \n",
      "3  163664  https://www.airbnb.com/rooms/163664  20231220185609   2023-12-20   \n",
      "4  163742  https://www.airbnb.com/rooms/163742  20231220185609   2023-12-21   \n",
      "\n",
      "            source                                               name  \\\n",
      "0  previous scrape  Rental unit in Hong Kong Island · ★4.76 · Stud...   \n",
      "1      city scrape  Rental unit in Sheung Wan · ★4.22 · Studio · 1...   \n",
      "2      city scrape  Rental unit in Hong Kong Island · ★4.52 · 2 be...   \n",
      "3      city scrape  Rental unit in Sheung Wan · ★4.28 · 2 bedrooms...   \n",
      "4      city scrape  Rental unit in Sheung Wan · ★4.35 · 2 bedrooms...   \n",
      "\n",
      "   description                              neighborhood_overview  \\\n",
      "0          NaN  Best neighborhood in Hong Kong! A mix of old a...   \n",
      "1          NaN                                                NaN   \n",
      "2          NaN  The Sheung Wan neighbourhood is ever changing ...   \n",
      "3          NaN  Fantastic traditional Hong Kong neighborhood w...   \n",
      "4          NaN  Fantastic traditional Hong Kong neighborhood w...   \n",
      "\n",
      "                                         picture_url  host_id  ...  \\\n",
      "0  https://a0.muscache.com/pictures/119686/6ced58...    69063  ...   \n",
      "1  https://a0.muscache.com/pictures/2849554/d2262...   304876  ...   \n",
      "2  https://a0.muscache.com/pictures/36936441/e4c1...   304876  ...   \n",
      "3  https://a0.muscache.com/pictures/15184030/8d06...   304876  ...   \n",
      "4  https://a0.muscache.com/pictures/15195137/ff7e...   304876  ...   \n",
      "\n",
      "  review_scores_communication review_scores_location review_scores_value  \\\n",
      "0                        4.93                   4.90                4.66   \n",
      "1                        4.51                   4.73                4.13   \n",
      "2                        4.67                   4.43                4.41   \n",
      "3                        4.58                   4.68                4.31   \n",
      "4                        4.59                   4.62                4.31   \n",
      "\n",
      "  license instant_bookable calculated_host_listings_count  \\\n",
      "0     NaN                f                              1   \n",
      "1     NaN                f                              9   \n",
      "2     NaN                f                              9   \n",
      "3     NaN                f                              9   \n",
      "4     NaN                f                              9   \n",
      "\n",
      "  calculated_host_listings_count_entire_homes  \\\n",
      "0                                           1   \n",
      "1                                           5   \n",
      "2                                           5   \n",
      "3                                           5   \n",
      "4                                           5   \n",
      "\n",
      "  calculated_host_listings_count_private_rooms  \\\n",
      "0                                            0   \n",
      "1                                            4   \n",
      "2                                            4   \n",
      "3                                            4   \n",
      "4                                            4   \n",
      "\n",
      "  calculated_host_listings_count_shared_rooms reviews_per_month  \n",
      "0                                           0              0.44  \n",
      "1                                           0              0.97  \n",
      "2                                           0              1.63  \n",
      "3                                           0              1.50  \n",
      "4                                           0              1.62  \n",
      "\n",
      "[5 rows x 75 columns]\n"
     ]
    }
   ],
   "source": [
    "print(df.head())"
   ]
  }
 ],
 "metadata": {
  "kernelspec": {
   "display_name": "base",
   "language": "python",
   "name": "python3"
  },
  "language_info": {
   "codemirror_mode": {
    "name": "ipython",
    "version": 3
   },
   "file_extension": ".py",
   "mimetype": "text/x-python",
   "name": "python",
   "nbconvert_exporter": "python",
   "pygments_lexer": "ipython3",
   "version": "3.11.7"
  }
 },
 "nbformat": 4,
 "nbformat_minor": 2
}
